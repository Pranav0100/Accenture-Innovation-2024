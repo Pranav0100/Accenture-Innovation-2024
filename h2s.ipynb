{
 "cells": [
  {
   "cell_type": "code",
   "execution_count": null,
   "metadata": {},
   "outputs": [],
   "source": [
    "#First install the necesary libraries\n",
    "!pip install openai==1.1.1\n",
    "!pip install panel"
   ]
  },
  {
   "cell_type": "code",
   "execution_count": null,
   "metadata": {},
   "outputs": [],
   "source": [
    "import openai  # OpenAI for GPT models\n",
    "import geopy  # Geocoding services\n",
    "import panel as pn  # Interactive apps\n",
    "openai.api_key=\"your-api-key\"  # API key for OpenAI"
   ]
  },
  {
   "cell_type": "code",
   "execution_count": null,
   "metadata": {},
   "outputs": [],
   "source": [
    "def continue_conversation(messages, temperature=0.7):\n",
    "    # Generates a chat completion using GPT-4 with given messages and temperature\n",
    "    response = openai.chat.completions.create(\n",
    "        model=\"gpt-4-0613\",\n",
    "        messages=messages,\n",
    "        temperature=temperature,\n",
    "    )\n",
    "    answer = response.choices[0].message.content  # Extracts the response content\n",
    "    \n",
    "    return answer"
   ]
  },
  {
   "cell_type": "code",
   "execution_count": null,
   "metadata": {},
   "outputs": [],
   "source": [
    "import panel as pn\n",
    "pn.extension()  # Load Panel extensions for interactive widgets\n",
    "panels = []  # Initialize an empty list to store panels\n",
    "client_prompt = pn.widgets.TextInput(value=\"Hi\", placeholder='Enter text here…')  # Text input widget for user prompts\n",
    "button_conversation = pn.widgets.Button(name=\"talk\")  # Button widget to trigger conversation\n"
   ]
  },
  {
   "cell_type": "code",
   "execution_count": null,
   "metadata": {},
   "outputs": [],
   "source": [
    "system_prompt = f\"\"\"\n",
    "You are a discovery chatbot. Your goal is to assist users with by finding various options as per need and assist in bookings.\n",
    "First you try to find intent of user. Once user intent is found, identify entities required for search and fill those slots.\n",
    "If user doesn't provide them, ask it to user one by one.\n",
    "We only help user for specific intents only.\n",
    "Once you have all the details, write a sql query assuming a simple booking, and sort them by the factor as specified. Make sure that in sql query, you use same names as entities provided below for the intent.\n",
    "\n",
    "Intent: Restraunt booking; Entities:[cuisine, budget, number of tables]; Sort by: rating\n",
    "Intent: Flight ticket booking; Entities: [from, to, date]; Sort by: rating\n",
    "\n",
    "\"\"\"\n",
    "context = [{'role': 'system', 'content': system_prompt}]  # System message defines chatbot role, intents, and entity requirements for bookings"
   ]
  },
  {
   "cell_type": "code",
   "execution_count": null,
   "metadata": {},
   "outputs": [],
   "source": [
    "def add_prompts_conversation(_):\n",
    "    # Get user input from text field and reset input field\n",
    "    prompt = client_prompt.value_input\n",
    "    client_prompt.value = ''\n",
    "    \n",
    "    # Add user's input to the conversation context\n",
    "    context.append({'role': 'user', 'content': f\"{prompt}\"})\n",
    "    \n",
    "    # Generate response from the assistant\n",
    "    response = continue_conversation(context)\n",
    "    \n",
    "    # Append assistant's response to the conversation context\n",
    "    context.append({'role': 'assistant', 'content': f\"{response}\"})\n",
    "    \n",
    "    # Display user and assistant messages in the panel\n",
    "    panels.append(pn.Row('User:', pn.pane.Markdown(prompt, width=600)))\n",
    "    panels.append(pn.Row('Assistant:', pn.pane.Markdown(response, width=600)))\n",
    "    \n",
    "    return pn.Column(*panels)  # Return updated conversation in a column layout\n"
   ]
  },
  {
   "cell_type": "code",
   "execution_count": null,
   "metadata": {},
   "outputs": [],
   "source": [
    "interactive_conversation = pn.bind(add_prompts_conversation, button_conversation)  # Binds the button to trigger conversation updates\n",
    "\n",
    "dashboard = pn.Column(\n",
    "    client_prompt,  # Text input for user prompts\n",
    "    pn.Row(button_conversation),  # Button to initiate conversation\n",
    "    pn.panel(interactive_conversation, loading_indicator=True),  # Displays the conversation with a loading indicator\n",
    ")\n",
    "\n",
    "dashboard  # Render the dashboard with input, button, and conversation display"
   ]
  }
 ],
 "metadata": {
  "language_info": {
   "name": "python"
  }
 },
 "nbformat": 4,
 "nbformat_minor": 2
}
