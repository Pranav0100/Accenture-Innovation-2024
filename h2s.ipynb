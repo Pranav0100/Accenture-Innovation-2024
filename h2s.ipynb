{
 "cells": [
  {
   "cell_type": "code",
   "execution_count": null,
   "metadata": {},
   "outputs": [],
   "source": [
    "#First install the necesary libraries\n",
    "!pip install openai==1.1.1\n",
    "!pip install panel"
   ]
  },
  {
   "cell_type": "code",
   "execution_count": null,
   "metadata": {},
   "outputs": [],
   "source": [
    "import openai\n",
    "import geopy\n",
    "import panel as pn\n",
    "#from mykeys import openai_api_key\n",
    "openai.api_key=\"your-api-key\""
   ]
  },
  {
   "cell_type": "code",
   "execution_count": null,
   "metadata": {},
   "outputs": [],
   "source": [
    "def continue_conversation(messages, temperature=0.7):\n",
    "    response = openai.chat.completions.create(\n",
    "        model=\"gpt-4-0613\",\n",
    "        messages=messages,\n",
    "        temperature=temperature,\n",
    "    )\n",
    "    # print(response)\n",
    "    #print(str(response.choices[0].message[\"content\"]))\n",
    "    answer = response.choices[0].message.content\n",
    "    # print(answer)\n",
    "    return answer"
   ]
  },
  {
   "cell_type": "code",
   "execution_count": null,
   "metadata": {},
   "outputs": [],
   "source": [
    "pn.extension()\n",
    "\n",
    "panels = []\n",
    "\n",
    "client_prompt = pn.widgets.TextInput(value=\"Hi\", placeholder='Enter text here…')\n",
    "button_conversation = pn.widgets.Button(name=\"talk\")"
   ]
  },
  {
   "cell_type": "code",
   "execution_count": null,
   "metadata": {},
   "outputs": [],
   "source": [
    "# context = [ {'role':'system', 'content':\"\"\"\n",
    "# You are a restaurant discovery chatbot. your job is to help people find restaurants and cafe.\n",
    "# Here are the lists of tasks you have to perform.\n",
    "# 1. Identify the intent of the customer. We only support Greet and Restaurant discovery. In case of any other respond with apology.\n",
    "# 2. Once the customer starts with restaurant intent, identify the entities required for restaurant search.\n",
    "# 3. You have to fill these slots for restaurant search -- [cuisine, budget, number of tables]. For cafe only ask for [timing, budget, number of people]. If the customer doesnt provide these info, ask them 1 by one.\n",
    "# 4. Once you have all the 3 details, write a sql query assuming a simple table restaurant, sort them by rating.\n",
    "# \"\"\"} ]"
   ]
  },
  {
   "cell_type": "code",
   "execution_count": null,
   "metadata": {},
   "outputs": [],
   "source": [
    "# def identify_user_intent(user_query):\n",
    "#     prompt = f\"Identify the intent of the user. Possible intents: [RestaurantDiscovery, HotelBooking, FlightBooking, Other]. User Query: {user_query}\"\n",
    "\n",
    "#     # Using GPT-3.5 to generate intent based on user query and prompt\n",
    "#     response = openai.Completion.create(\n",
    "#         engine=\"text-davinci-002\",  # or specify the appropriate engine\n",
    "#         prompt=prompt,\n",
    "#         max_tokens=50,\n",
    "#         temperature=0.5,\n",
    "#         stop=None,\n",
    "#     )\n",
    "\n",
    "#     # Extracting the generated intent from the model's response\n",
    "#     generated_intent = response.choices[0].text.strip()\n",
    "\n",
    "#     # Mapping generated intent to predefined intents\n",
    "#     predefined_intents = [\"RestaurantDiscovery\", \"HotelBooking\", \"FlightBooking\", \"Other\"]\n",
    "#     matched_intent = next((intent for intent in predefined_intents if intent.lower() in generated_intent.lower()), \"Unknown\")\n",
    "\n",
    "#     return matched_intent"
   ]
  },
  {
   "cell_type": "code",
   "execution_count": null,
   "metadata": {},
   "outputs": [],
   "source": [
    "# user_intent = identify_user_intent(user_query)"
   ]
  },
  {
   "cell_type": "code",
   "execution_count": null,
   "metadata": {},
   "outputs": [],
   "source": [
    "# system_prompt = f\"\"\"You are a general-purpose discovery chatbot. Your goal is to assist users with by finding various options as per need and assist in bookings.\n",
    "# First you try to find intent of user. Once user intent is found, identify entities required for search and fill those slots.\n",
    "# If user doesn't provide them, ask it to user one by one.\n",
    "# Also we can not do hospital bookings.\n",
    "# Intent:mRestrunt Booking; Entities: ['budget', 'no. of people', 'food type']\n",
    "\n",
    "# Intent:Hospital Booking; Entities: ['budget', 'no. of people', 'food type']\n",
    "# Once you have all the details, write a sql query assuming a simple booking, and sort them by rating.\n",
    "# \"\"\"\n",
    "system_prompt = f\"\"\"\n",
    "You are a discovery chatbot. Your goal is to assist users with by finding various options as per need and assist in bookings.\n",
    "First you try to find intent of user. Once user intent is found, identify entities required for search and fill those slots.\n",
    "If user doesn't provide them, ask it to user one by one.\n",
    "We only help user for specific intents only.\n",
    "Once you have all the details, write a sql query assuming a simple booking, and sort them by the factor as specified. Make sure that in sql query, you use same names as entities provided below for the intent.\n",
    "\n",
    "Intent: Restraunt booking; Entities:[cuisine, budget, number of tables]; Sort by: rating\n",
    "Intent: Flight ticket booking; Entities: [from, to, date]; Sort by: rating\n",
    "\n",
    "\"\"\"\n",
    "context = [{'role': 'system', 'content': system_prompt}]"
   ]
  },
  {
   "cell_type": "code",
   "execution_count": null,
   "metadata": {},
   "outputs": [],
   "source": [
    "# #Creating the prompt\n",
    "# #read and undertand it.\n",
    "# def start_conversation(user_query):\n",
    "#     prompt1 = \"Check the intent of the user. Right now we support only these 2 intents [Greet, Restaurant Discovery, Others]. Response - Intent.\"\n",
    "#     context = [ {'role':'system', 'content':prompt1+\"----\"+user_query} ]\n",
    "#     response = continue_conversation(context)\n",
    "#     return response\n",
    "\n",
    "# user_query = \"Hi there. I would like to search for some good restaurants around.\"\n",
    "# response1 = start_conversation(user_query)\n",
    "# response1"
   ]
  },
  {
   "cell_type": "code",
   "execution_count": null,
   "metadata": {},
   "outputs": [],
   "source": [
    "# if response1 == \"Greet\":\n",
    "#     prompt2 = \"Ask customer for queries polietly.\"\n",
    "# if response1 == \"Others\":\n",
    "#     prompt2 = \"Polietly say that we support only restaurant discovery.\"\n",
    "\n",
    "# # if restaurant discovery\n",
    "# slots = [\"cuisine\", \"budget\", \"discount\"]\n",
    "\n",
    "# context = [ {'role':'system', 'content':prompt2} ]\n",
    "# response2 = continue_conversation(context)\n",
    "# response2"
   ]
  },
  {
   "cell_type": "code",
   "execution_count": null,
   "metadata": {},
   "outputs": [],
   "source": [
    "def add_prompts_conversation(_):\n",
    "    # Get the value introduced by the user\n",
    "    prompt = client_prompt.value_input\n",
    "    client_prompt.value = ''\n",
    "\n",
    "    # Append to the context the User promnopt.\n",
    "    context.append({'role':'user', 'content':f\"{prompt}\"})\n",
    "\n",
    "    # Get the response.\n",
    "    response = continue_conversation(context)\n",
    "\n",
    "    # Add the response to the context.\n",
    "    context.append({'role':'assistant', 'content':f\"{response}\"})\n",
    "\n",
    "    # Undate the panels to shjow the conversation.\n",
    "    panels.append(\n",
    "        pn.Row('User:', pn.pane.Markdown(prompt, width=600)))\n",
    "    panels.append(\n",
    "        pn.Row('Assistant:', pn.pane.Markdown(response, width=600)))\n",
    "    # print(context)\n",
    "    return pn.Column(*panels)"
   ]
  },
  {
   "cell_type": "code",
   "execution_count": null,
   "metadata": {},
   "outputs": [],
   "source": [
    "interactive_conversation = pn.bind(add_prompts_conversation, button_conversation)\n",
    "\n",
    "dashboard = pn.Column(\n",
    "    client_prompt,\n",
    "    pn.Row(button_conversation),\n",
    "    pn.panel(interactive_conversation, loading_indicator=True),\n",
    ")\n",
    "\n",
    "dashboard"
   ]
  }
 ],
 "metadata": {
  "language_info": {
   "name": "python"
  }
 },
 "nbformat": 4,
 "nbformat_minor": 2
}
